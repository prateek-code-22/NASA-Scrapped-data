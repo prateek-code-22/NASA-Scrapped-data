{
 "cells": [
  {
   "cell_type": "code",
   "execution_count": 8,
   "metadata": {},
   "outputs": [
    {
     "name": "stdout",
     "output_type": "stream",
     "text": [
      "DATE: 2020-07-03T16:50:50.444000\n",
      "URL: https://earthengine.googleapis.com/v1alpha/projects/earthengine-legacy/thumbnails/2feeea2397ec5c6a5918be61a96f3ede-b600e2c5af06bc3b1ad21c7cb5f7ba6d:getPixels\n",
      "****************************************************************************************************\n"
     ]
    }
   ],
   "source": [
    "import requests\n",
    "\n",
    "key = 'r8KSGXsGbEPvIRkAhYhyZqHvl01WjpQdUeXd1eqP'\n",
    "\n",
    "# write your latitude and longitude cordinates , date , dimension of image.\n",
    "res = requests.get('https://api.nasa.gov/planetary/earth/assets?lon=-95.33&lat=29.78&date=2020-08-02&&dim=0.10&api_key=r8KSGXsGbEPvIRkAhYhyZqHvl01WjpQdUeXd1eqP')\n",
    "r = res.json()\n",
    "\n",
    "print(\"DATE:\",r['date'])\n",
    "print(\"URL:\",r['url'])\n",
    "\n",
    "print('*' * 100)"
   ]
  },
  {
   "cell_type": "code",
   "execution_count": 9,
   "metadata": {},
   "outputs": [
    {
     "data": {
      "text/plain": [
       "dict_keys(['date', 'id', 'resource', 'service_version', 'url'])"
      ]
     },
     "execution_count": 9,
     "metadata": {},
     "output_type": "execute_result"
    }
   ],
   "source": [
    "r.keys()"
   ]
  },
  {
   "cell_type": "code",
   "execution_count": null,
   "metadata": {},
   "outputs": [],
   "source": []
  }
 ],
 "metadata": {
  "kernelspec": {
   "display_name": "Python 3",
   "language": "python",
   "name": "python3"
  },
  "language_info": {
   "codemirror_mode": {
    "name": "ipython",
    "version": 3
   },
   "file_extension": ".py",
   "mimetype": "text/x-python",
   "name": "python",
   "nbconvert_exporter": "python",
   "pygments_lexer": "ipython3",
   "version": "3.8.2"
  }
 },
 "nbformat": 4,
 "nbformat_minor": 4
}
