{
 "cells": [
  {
   "cell_type": "markdown",
   "metadata": {},
   "source": [
    "# InSight: Mars Weather Service API"
   ]
  },
  {
   "cell_type": "code",
   "execution_count": 27,
   "metadata": {},
   "outputs": [
    {
     "name": "stdout",
     "output_type": "stream",
     "text": [
      "Data for:\n",
      "SOL: ['595', '596', '597', '598', '599', '600', '601']\n",
      "\n",
      "For Latest update of MARS Weather: https://mars.nasa.gov/insight/weather/\n",
      "For Insight mars wind rose graph: https://api.nasa.gov/assets/insight/insight_mars_wind_rose.html\n",
      "\n",
      "********************************************************************************\n"
     ]
    }
   ],
   "source": [
    "import requests\n",
    "\n",
    "key = 'r8KSGXsGbEPvIRkAhYhyZqHvl01WjpQdUeXd1eqP'\n",
    "#params = {'version': 1.0 ,'feedtype': \"JSON\" ,'api_key': key }\n",
    "res = requests.get('https://api.nasa.gov/insight_weather/?api_key=r8KSGXsGbEPvIRkAhYhyZqHvl01WjpQdUeXd1eqP&feedtype=json&ver=1.0')   \n",
    "r = res.json()\n",
    "\n",
    "print(\"Data for:\")\n",
    "print(\"SOL:\",r['sol_keys'])\n",
    "print()\n",
    "print(\"For Latest update of MARS Weather: https://mars.nasa.gov/insight/weather/\")\n",
    "print(\"For Insight mars wind rose graph: https://api.nasa.gov/assets/insight/insight_mars_wind_rose.html\")\n",
    "print()\n",
    "print('*'*80)"
   ]
  },
  {
   "cell_type": "code",
   "execution_count": 26,
   "metadata": {},
   "outputs": [
    {
     "data": {
      "text/plain": [
       "dict_keys(['595', '596', '597', '598', '599', '600', '601', 'sol_keys', 'validity_checks'])"
      ]
     },
     "execution_count": 26,
     "metadata": {},
     "output_type": "execute_result"
    }
   ],
   "source": [
    "# Meta data which you can retrieve.\n",
    "r.keys()"
   ]
  },
  {
   "cell_type": "markdown",
   "metadata": {},
   "source": [
    "### To retrieve data for paticular sol"
   ]
  },
  {
   "cell_type": "code",
   "execution_count": 22,
   "metadata": {},
   "outputs": [
    {
     "name": "stdout",
     "output_type": "stream",
     "text": [
      "{'AT': {'av': -55.07, 'ct': 205866, 'mn': -107.62, 'mx': -5.749}, 'First_UTC': '2020-08-03T17:03:18Z', 'HWS': {'av': 5.6, 'ct': 126082, 'mn': 0.218, 'mx': 15.184000000000001}, 'Last_UTC': '2020-08-04T17:42:51Z', 'PRE': {'av': 789.418, 'ct': 140874, 'mn': 754.1501, 'mx': 809.1028}, 'Season': 'summer', 'WD': {'0': {'compass_degrees': 0.0, 'compass_point': 'N', 'compass_right': 0.0, 'compass_up': 1.0, 'ct': 5996}, '1': {'compass_degrees': 22.5, 'compass_point': 'NNE', 'compass_right': 0.382683432365, 'compass_up': 0.923879532511, 'ct': 3391}, '10': {'compass_degrees': 225.0, 'compass_point': 'SW', 'compass_right': -0.707106781187, 'compass_up': -0.707106781187, 'ct': 19073}, '11': {'compass_degrees': 247.5, 'compass_point': 'WSW', 'compass_right': -0.923879532511, 'compass_up': -0.382683432365, 'ct': 1442}, '12': {'compass_degrees': 270.0, 'compass_point': 'W', 'compass_right': -1.0, 'compass_up': -0.0, 'ct': 42759}, '13': {'compass_degrees': 292.5, 'compass_point': 'WNW', 'compass_right': -0.923879532511, 'compass_up': 0.382683432365, 'ct': 30767}, '14': {'compass_degrees': 315.0, 'compass_point': 'NW', 'compass_right': -0.707106781187, 'compass_up': 0.707106781187, 'ct': 7542}, '15': {'compass_degrees': 337.5, 'compass_point': 'NNW', 'compass_right': -0.382683432365, 'compass_up': 0.923879532511, 'ct': 5594}, '2': {'compass_degrees': 45.0, 'compass_point': 'NE', 'compass_right': 0.707106781187, 'compass_up': 0.707106781187, 'ct': 1543}, '3': {'compass_degrees': 67.5, 'compass_point': 'ENE', 'compass_right': 0.923879532511, 'compass_up': 0.382683432365, 'ct': 130}, '5': {'compass_degrees': 112.5, 'compass_point': 'ESE', 'compass_right': 0.923879532511, 'compass_up': -0.382683432365, 'ct': 532}, '6': {'compass_degrees': 135.0, 'compass_point': 'SE', 'compass_right': 0.707106781187, 'compass_up': -0.707106781187, 'ct': 210}, '7': {'compass_degrees': 157.5, 'compass_point': 'SSE', 'compass_right': 0.382683432365, 'compass_up': -0.923879532511, 'ct': 842}, '8': {'compass_degrees': 180.0, 'compass_point': 'S', 'compass_right': 0.0, 'compass_up': -1.0, 'ct': 852}, '9': {'compass_degrees': 202.5, 'compass_point': 'SSW', 'compass_right': -0.382683432365, 'compass_up': -0.923879532511, 'ct': 5409}, 'most_common': {'compass_degrees': 270.0, 'compass_point': 'W', 'compass_right': -1.0, 'compass_up': -0.0, 'ct': 42759}}}\n"
     ]
    }
   ],
   "source": [
    "print(r['600'])"
   ]
  },
  {
   "cell_type": "code",
   "execution_count": null,
   "metadata": {},
   "outputs": [],
   "source": []
  }
 ],
 "metadata": {
  "kernelspec": {
   "display_name": "Python 3",
   "language": "python",
   "name": "python3"
  },
  "language_info": {
   "codemirror_mode": {
    "name": "ipython",
    "version": 3
   },
   "file_extension": ".py",
   "mimetype": "text/x-python",
   "name": "python",
   "nbconvert_exporter": "python",
   "pygments_lexer": "ipython3",
   "version": "3.8.2"
  }
 },
 "nbformat": 4,
 "nbformat_minor": 4
}
