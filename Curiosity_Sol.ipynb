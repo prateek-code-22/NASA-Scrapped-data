{
 "cells": [
  {
   "cell_type": "markdown",
   "metadata": {},
   "source": [
    "# IMAGES BY NAVCAM, MAST, MAHLI CAMERAS FROM CURIOSITY ROVER."
   ]
  },
  {
   "cell_type": "markdown",
   "metadata": {},
   "source": [
    "#  "
   ]
  },
  {
   "cell_type": "markdown",
   "metadata": {},
   "source": [
    "## 1. USING NAVCAM CAMERA OF CURIOSITY."
   ]
  },
  {
   "cell_type": "code",
   "execution_count": 2,
   "metadata": {},
   "outputs": [
    {
     "name": "stdout",
     "output_type": "stream",
     "text": [
      " NAVCAM IMAGES LINKS BELOW:\n",
      " http://mars.jpl.nasa.gov/msl-raw-images/proj/msl/redops/ods/surface/sol/01100/opgs/edr/ncam/NLB_495147959EDR_D0492878TRAV00371M_.JPG\n",
      " http://mars.jpl.nasa.gov/msl-raw-images/proj/msl/redops/ods/surface/sol/01100/opgs/edr/ncam/NLB_495147894EDR_D0492872TRAV00371M_.JPG\n",
      " http://mars.jpl.nasa.gov/msl-raw-images/proj/msl/redops/ods/surface/sol/01100/opgs/edr/ncam/NLB_495147723EDR_D0492866TRAV00371M_.JPG\n",
      " http://mars.jpl.nasa.gov/msl-raw-images/proj/msl/redops/ods/surface/sol/01100/opgs/edr/ncam/NLB_495147661EDR_D0492860TRAV00371M_.JPG\n",
      " http://mars.jpl.nasa.gov/msl-raw-images/proj/msl/redops/ods/surface/sol/01100/opgs/edr/ncam/NLB_495147579EDR_D0492854TRAV00371M_.JPG\n",
      " http://mars.jpl.nasa.gov/msl-raw-images/proj/msl/redops/ods/surface/sol/01100/opgs/edr/ncam/NLB_495147520EDR_D0492848TRAV00371M_.JPG\n",
      " http://mars.jpl.nasa.gov/msl-raw-images/proj/msl/redops/ods/surface/sol/01100/opgs/edr/ncam/NLB_495147479EDR_D0492842TRAV00371M_.JPG\n",
      " http://mars.jpl.nasa.gov/msl-raw-images/proj/msl/redops/ods/surface/sol/01100/opgs/edr/ncam/NLB_495147402EDR_D0492836TRAV00371M_.JPG\n",
      " http://mars.jpl.nasa.gov/msl-raw-images/proj/msl/redops/ods/surface/sol/01100/opgs/edr/ncam/NLB_495147349EDR_D0492830TRAV00371M_.JPG\n",
      " http://mars.jpl.nasa.gov/msl-raw-images/proj/msl/redops/ods/surface/sol/01100/opgs/edr/ncam/NLB_495147284EDR_D0492824TRAV00371M_.JPG\n",
      " http://mars.jpl.nasa.gov/msl-raw-images/proj/msl/redops/ods/surface/sol/01100/opgs/edr/ncam/NLB_495147218EDR_D0492818TRAV00371M_.JPG\n",
      " http://mars.jpl.nasa.gov/msl-raw-images/proj/msl/redops/ods/surface/sol/01100/opgs/edr/ncam/NLB_495147151EDR_D0492812TRAV00371M_.JPG\n",
      " http://mars.jpl.nasa.gov/msl-raw-images/proj/msl/redops/ods/surface/sol/01100/opgs/edr/ncam/NLB_495147086EDR_D0492806TRAV00371M_.JPG\n",
      " http://mars.jpl.nasa.gov/msl-raw-images/proj/msl/redops/ods/surface/sol/01100/opgs/edr/ncam/NLB_495147018EDR_D0492800TRAV00371M_.JPG\n",
      " http://mars.jpl.nasa.gov/msl-raw-images/proj/msl/redops/ods/surface/sol/01100/opgs/edr/ncam/NLB_495146952EDR_D0492794TRAV00371M_.JPG\n",
      " http://mars.jpl.nasa.gov/msl-raw-images/proj/msl/redops/ods/surface/sol/01100/opgs/edr/ncam/NLB_495146888EDR_D0492788TRAV00371M_.JPG\n",
      " http://mars.jpl.nasa.gov/msl-raw-images/proj/msl/redops/ods/surface/sol/01100/opgs/edr/ncam/NLB_495146812EDR_D0492782TRAV00371M_.JPG\n",
      " http://mars.jpl.nasa.gov/msl-raw-images/proj/msl/redops/ods/surface/sol/01100/opgs/edr/ncam/NLB_495146763EDR_D0492776TRAV00371M_.JPG\n",
      " http://mars.jpl.nasa.gov/msl-raw-images/proj/msl/redops/ods/surface/sol/01100/opgs/edr/ncam/NLB_495146704EDR_D0492770TRAV00371M_.JPG\n",
      " http://mars.jpl.nasa.gov/msl-raw-images/proj/msl/redops/ods/surface/sol/01100/opgs/edr/ncam/NLB_495146661EDR_D0492764TRAV00371M_.JPG\n",
      " http://mars.jpl.nasa.gov/msl-raw-images/proj/msl/redops/ods/surface/sol/01100/opgs/edr/ncam/NLB_495146597EDR_D0492758TRAV00371M_.JPG\n",
      " http://mars.jpl.nasa.gov/msl-raw-images/proj/msl/redops/ods/surface/sol/01100/opgs/edr/ncam/NLB_495146532EDR_D0492752TRAV00371M_.JPG\n",
      " http://mars.jpl.nasa.gov/msl-raw-images/proj/msl/redops/ods/surface/sol/01100/opgs/edr/ncam/NLB_495146467EDR_D0492746TRAV00371M_.JPG\n",
      " http://mars.jpl.nasa.gov/msl-raw-images/proj/msl/redops/ods/surface/sol/01100/opgs/edr/ncam/NLB_495146401EDR_D0492740TRAV00371M_.JPG\n",
      " http://mars.jpl.nasa.gov/msl-raw-images/proj/msl/redops/ods/surface/sol/01100/opgs/edr/ncam/NLB_495146335EDR_D0492734TRAV00371M_.JPG\n",
      "\n",
      "********************************************************************************************\n"
     ]
    }
   ],
   "source": [
    "import requests\n",
    "import os\n",
    "import json\n",
    "\n",
    "key = 'r8KSGXsGbEPvIRkAhYhyZqHvl01WjpQdUeXd1eqP'\n",
    "\n",
    "params = {'sol':1100 , 'camera':\"NAVCAM\" ,'page':2 ,'api_key': key}\n",
    "res = requests.get(\"https://api.nasa.gov/mars-photos/api/v1/rovers/curiosity/photos?\",params =params)\n",
    "r= res.json()\n",
    "\n",
    "print(\" NAVCAM IMAGES LINKS BELOW:\")\n",
    "for each in r['photos']:\n",
    "    print(\"\",each['img_src'])\n",
    "\n",
    "\n",
    "print()\n",
    "print(\"*\"*92)"
   ]
  },
  {
   "cell_type": "markdown",
   "metadata": {},
   "source": [
    "## 2. USING MAST CAMERA OF CURIOSITY."
   ]
  },
  {
   "cell_type": "code",
   "execution_count": 3,
   "metadata": {},
   "outputs": [
    {
     "name": "stdout",
     "output_type": "stream",
     "text": [
      " MAST CAMERA IMAGES LINKS BELOW:\n",
      " http://mars.jpl.nasa.gov/msl-raw-images/msss/01100/mcam/1100MR0048750030600951E01_DXXX.jpg\n",
      " http://mars.jpl.nasa.gov/msl-raw-images/msss/01100/mcam/1100MR0048750020600950E01_DXXX.jpg\n",
      " http://mars.jpl.nasa.gov/msl-raw-images/msss/01100/mcam/1100MR0048750010600949E01_DXXX.jpg\n",
      " http://mars.jpl.nasa.gov/msl-raw-images/msss/01100/mcam/1100MR0048740130600947E01_DXXX.jpg\n",
      " http://mars.jpl.nasa.gov/msl-raw-images/msss/01100/mcam/1100MR0048740120600946E01_DXXX.jpg\n",
      " http://mars.jpl.nasa.gov/msl-raw-images/msss/01100/mcam/1100MR0048740110600945E01_DXXX.jpg\n",
      " http://mars.jpl.nasa.gov/msl-raw-images/msss/01100/mcam/1100MR0048740100600944E01_DXXX.jpg\n",
      " http://mars.jpl.nasa.gov/msl-raw-images/msss/01100/mcam/1100MR0048740090600943E01_DXXX.jpg\n",
      " http://mars.jpl.nasa.gov/msl-raw-images/msss/01100/mcam/1100MR0048740080600942E01_DXXX.jpg\n",
      " http://mars.jpl.nasa.gov/msl-raw-images/msss/01100/mcam/1100MR0048740070600941E01_DXXX.jpg\n",
      " http://mars.jpl.nasa.gov/msl-raw-images/msss/01100/mcam/1100MR0048740060600940E01_DXXX.jpg\n",
      " http://mars.jpl.nasa.gov/msl-raw-images/msss/01100/mcam/1100MR0048740050600939E01_DXXX.jpg\n",
      " http://mars.jpl.nasa.gov/msl-raw-images/msss/01100/mcam/1100MR0048740040600938E01_DXXX.jpg\n",
      " http://mars.jpl.nasa.gov/msl-raw-images/msss/01100/mcam/1100MR0048740030600937E01_DXXX.jpg\n",
      " http://mars.jpl.nasa.gov/msl-raw-images/msss/01100/mcam/1100MR0048740020600936E01_DXXX.jpg\n",
      " http://mars.jpl.nasa.gov/msl-raw-images/msss/01100/mcam/1100MR0048740010600935E01_DXXX.jpg\n",
      " http://mars.jpl.nasa.gov/msl-raw-images/msss/01100/mcam/1100MR0048730040600933E01_DXXX.jpg\n",
      " http://mars.jpl.nasa.gov/msl-raw-images/msss/01100/mcam/1100MR0048730030600932E02_DXXX.jpg\n",
      " http://mars.jpl.nasa.gov/msl-raw-images/msss/01100/mcam/1100MR0048730020600931E01_DXXX.jpg\n",
      " http://mars.jpl.nasa.gov/msl-raw-images/msss/01100/mcam/1100MR0048730010600930E01_DXXX.jpg\n",
      " http://mars.jpl.nasa.gov/msl-raw-images/msss/01100/mcam/1100MR0048730000600929E01_DXXX.jpg\n",
      " http://mars.jpl.nasa.gov/msl-raw-images/msss/01100/mcam/1100ML0048711410500625E01_DXXX.jpg\n",
      " http://mars.jpl.nasa.gov/msl-raw-images/msss/01100/mcam/1100ML0048711400500624E01_DXXX.jpg\n",
      " http://mars.jpl.nasa.gov/msl-raw-images/msss/01100/mcam/1100ML0048711390500623E01_DXXX.jpg\n",
      " http://mars.jpl.nasa.gov/msl-raw-images/msss/01100/mcam/1100ML0048711380500622E01_DXXX.jpg\n",
      "\n",
      "********************************************************************************************\n"
     ]
    }
   ],
   "source": [
    "params = {'sol':1100 , 'camera':\"MAST\" ,'page':2 ,'api_key': key}\n",
    "res = requests.get(\"https://api.nasa.gov/mars-photos/api/v1/rovers/curiosity/photos?\",params =params)\n",
    "r= res.json()\n",
    "\n",
    "print(\" MAST CAMERA IMAGES LINKS BELOW:\")\n",
    "for each in r['photos']:\n",
    "    print(\"\",each['img_src'])\n",
    "\n",
    "\n",
    "print()\n",
    "print(\"*\"*92)"
   ]
  },
  {
   "cell_type": "markdown",
   "metadata": {},
   "source": [
    "## 3. USING MAHLI CAMERA OF CURIOSITY."
   ]
  },
  {
   "cell_type": "code",
   "execution_count": 4,
   "metadata": {},
   "outputs": [
    {
     "name": "stdout",
     "output_type": "stream",
     "text": [
      " MAHLI CAMERA IMAGES LINKS BELOW:\n",
      " http://mars.jpl.nasa.gov/msl-raw-images/msss/01102/mhli/1102MH0001660020401084I01_DXXX.jpg\n",
      " http://mars.jpl.nasa.gov/msl-raw-images/msss/01102/mhli/1102MH0001660020401083I01_DXXX.jpg\n",
      " http://mars.jpl.nasa.gov/msl-raw-images/msss/01102/mhli/1102MH0001660020401082I01_DXXX.jpg\n",
      " http://mars.jpl.nasa.gov/msl-raw-images/msss/01102/mhli/1102MH0001660020401081I01_DXXX.jpg\n",
      " http://mars.jpl.nasa.gov/msl-raw-images/msss/01102/mhli/1102MH0001660020401080I01_DXXX.jpg\n",
      " http://mars.jpl.nasa.gov/msl-raw-images/msss/01102/mhli/1102MH0001660020401079I01_DXXX.jpg\n",
      " http://mars.jpl.nasa.gov/msl-raw-images/msss/01102/mhli/1102MH0001660020401078I01_DXXX.jpg\n",
      " http://mars.jpl.nasa.gov/msl-raw-images/msss/01102/mhli/1102MH0001660020401077I01_DXXX.jpg\n",
      " http://mars.jpl.nasa.gov/msl-raw-images/msss/01102/mhli/1102MH0001660010401076I01_DXXX.jpg\n",
      " http://mars.jpl.nasa.gov/msl-raw-images/msss/01102/mhli/1102MH0001660000401075I01_DXXX.jpg\n",
      " http://mars.jpl.nasa.gov/msl-raw-images/msss/01102/mhli/1102MH0001900010401074I01_DXXX.jpg\n",
      " http://mars.jpl.nasa.gov/msl-raw-images/msss/01102/mhli/1102MH0001900000401073I01_DXXX.jpg\n",
      " http://mars.jpl.nasa.gov/msl-raw-images/msss/01102/mhli/1102MH0002620000401072I01_DXXX.jpg\n",
      " http://mars.jpl.nasa.gov/msl-raw-images/msss/01102/mhli/1102MH0002640000401071I01_DXXX.jpg\n",
      " http://mars.jpl.nasa.gov/msl-raw-images/msss/01102/mhli/1102MH0002590000401070I01_DXXX.jpg\n",
      " http://mars.jpl.nasa.gov/msl-raw-images/msss/01102/mhli/1102MH0002610010401069I01_DXXX.jpg\n",
      " http://mars.jpl.nasa.gov/msl-raw-images/msss/01102/mhli/1102MH0004280010401096C00_DXXX.jpg\n",
      " http://mars.jpl.nasa.gov/msl-raw-images/msss/01102/mhli/1102MH0001660010401086C00_DXXX.jpg\n",
      " http://mars.jpl.nasa.gov/msl-raw-images/msss/01102/mhli/1102MH0001660010401076C00_DXXX.jpg\n",
      "\n",
      "********************************************************************************************\n"
     ]
    }
   ],
   "source": [
    "params = {'sol':1102 , 'camera':\"MAHLI\" ,'page':2 ,'api_key': key}\n",
    "res = requests.get(\"https://api.nasa.gov/mars-photos/api/v1/rovers/curiosity/photos?\",params =params)\n",
    "r= res.json()\n",
    "\n",
    "print(\" MAHLI CAMERA IMAGES LINKS BELOW:\")\n",
    "for each in r['photos']:\n",
    "    print(\"\",each['img_src'])\n",
    "\n",
    "\n",
    "print()\n",
    "print(\"*\"*92)"
   ]
  },
  {
   "cell_type": "code",
   "execution_count": 5,
   "metadata": {},
   "outputs": [
    {
     "data": {
      "text/plain": [
       "dict_keys(['photos'])"
      ]
     },
     "execution_count": 5,
     "metadata": {},
     "output_type": "execute_result"
    }
   ],
   "source": [
    "r.keys()"
   ]
  },
  {
   "cell_type": "code",
   "execution_count": null,
   "metadata": {},
   "outputs": [],
   "source": []
  }
 ],
 "metadata": {
  "kernelspec": {
   "display_name": "Python 3",
   "language": "python",
   "name": "python3"
  },
  "language_info": {
   "codemirror_mode": {
    "name": "ipython",
    "version": 3
   },
   "file_extension": ".py",
   "mimetype": "text/x-python",
   "name": "python",
   "nbconvert_exporter": "python",
   "pygments_lexer": "ipython3",
   "version": "3.8.2"
  }
 },
 "nbformat": 4,
 "nbformat_minor": 4
}
