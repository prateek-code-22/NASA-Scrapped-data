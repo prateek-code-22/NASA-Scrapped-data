{
 "cells": [
  {
   "cell_type": "markdown",
   "metadata": {},
   "source": [
    "# Using Earth Polychromatic Imaging Camera (EPIC) API "
   ]
  },
  {
   "cell_type": "markdown",
   "metadata": {},
   "source": [
    "### to retrieve image name and details about it."
   ]
  },
  {
   "cell_type": "code",
   "execution_count": 34,
   "metadata": {},
   "outputs": [
    {
     "name": "stdout",
     "output_type": "stream",
     "text": [
      "Image(Name):\n",
      "\n",
      "epic_1b_20200805001752\n",
      "epic_1b_20200805012319\n",
      "epic_1b_20200805022847\n",
      "epic_1b_20200805033414\n",
      "epic_1b_20200805043941\n",
      "epic_1b_20200805054508\n",
      "epic_1b_20200805065035\n",
      "epic_1b_20200805075603\n",
      "epic_1b_20200805090130\n",
      "epic_1b_20200805100657\n",
      "epic_1b_20200805111224\n",
      "epic_1b_20200805121752\n",
      "epic_1b_20200805132319\n",
      "epic_1b_20200805142847\n",
      "epic_1b_20200805153414\n",
      "epic_1b_20200805163941\n",
      "epic_1b_20200805174508\n",
      "epic_1b_20200805185036\n",
      "epic_1b_20200805195603\n",
      "epic_1b_20200805210131\n",
      "\n",
      "For detailed info: https://epic.gsfc.nasa.gov/\n",
      "***************************************************************************************************\n"
     ]
    }
   ],
   "source": [
    "#import packages\n",
    "import requests\n",
    "import os\n",
    "\n",
    "# NASA register key store to 'key'\n",
    "key = 'XXXXXXXXXXXXXXXXXXXXXXXXX'\n",
    "\n",
    "# add parameters\n",
    "params = {'natural/date': 2020-8-6,'api_key': key}\n",
    "\n",
    "# getting request from server.\n",
    "res = requests.get('https://api.nasa.gov/EPIC/api/natural/images?',params = params)\n",
    "r = res.json()\n",
    "\n",
    "# printing each image name from whole json file(r).\n",
    "print(\"Image(Name):\")\n",
    "print()\n",
    "\n",
    "for each in r:\n",
    "    print(each['image'])\n",
    "    \n",
    "print()\n",
    "\n",
    "#get detailed nformation about images and other factors from NASA.\n",
    "print(\"For detailed info: https://epic.gsfc.nasa.gov/\")\n",
    "    \n",
    "print(\"*\"*99)"
   ]
  },
  {
   "cell_type": "code",
   "execution_count": 35,
   "metadata": {},
   "outputs": [
    {
     "data": {
      "text/plain": [
       "dict_keys(['identifier', 'caption', 'image', 'version', 'centroid_coordinates', 'dscovr_j2000_position', 'lunar_j2000_position', 'sun_j2000_position', 'attitude_quaternions', 'date', 'coords'])"
      ]
     },
     "execution_count": 35,
     "metadata": {},
     "output_type": "execute_result"
    }
   ],
   "source": [
    "#These are the meta data that you can retrieve from this api.\n",
    "each.keys()"
   ]
  },
  {
   "cell_type": "code",
   "execution_count": null,
   "metadata": {},
   "outputs": [],
   "source": []
  }
 ],
 "metadata": {
  "kernelspec": {
   "display_name": "Python 3",
   "language": "python",
   "name": "python3"
  },
  "language_info": {
   "codemirror_mode": {
    "name": "ipython",
    "version": 3
   },
   "file_extension": ".py",
   "mimetype": "text/x-python",
   "name": "python",
   "nbconvert_exporter": "python",
   "pygments_lexer": "ipython3",
   "version": "3.8.2"
  }
 },
 "nbformat": 4,
 "nbformat_minor": 4
}
